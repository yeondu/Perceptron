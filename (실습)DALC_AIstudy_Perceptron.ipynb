{
  "nbformat": 4,
  "nbformat_minor": 0,
  "metadata": {
    "colab": {
      "name": "(실습)DALC_AIstudy_Perceptron",
      "provenance": [],
      "collapsed_sections": [],
      "toc_visible": true
    },
    "kernelspec": {
      "name": "python3",
      "display_name": "Python 3"
    }
  },
  "cells": [
    {
      "cell_type": "markdown",
      "metadata": {
        "id": "D-BslyeaYgvu"
      },
      "source": [
        "# 퍼셉트론이란? \n",
        "\n",
        "- 다수의 입력으로부터 하나의 결과를 내보내는 알고리즘\n",
        "\n",
        "- 초기의 인공신경망으로 1957년 코넬 항공 연구소의 Frank Rosenblatt라는 사람이 고안해 내었다. \n",
        "\n",
        "![Frank Rosenblatt](http://www.enzyklopaedie-der-wirtschaftsinformatik.de/Members/wilex4/Rosen-2.jpg/image_preview \"1957년 프랑크 로젠블라트가 고안\")\n",
        "\n",
        "Dendrite : 이웃 뉴런에서 전기 신호를 받는다.\n",
        "\n",
        "Synapse : 다른 뉴런과 Dendrite의 연결 부위에 있다.\n",
        "             전기신호의 세기를 재조정한다.\n",
        "\n",
        "Soma (cell body) : Dendrite로부터 받은\n",
        "                        여러 전기신호들을 모두 합친다.\n",
        "\n",
        "Axon : Soma의 전위가 일정 이상이 되면\n",
        "         이웃 뉴런으로 전기 신호를 보낸다.\n",
        "\n",
        "![](https://github.com/Eunjung-Cho/Donduk-Ai-Learning-Crew/blob/9ba460d6264d1812d435f2dc1c90e4eb13706237/045ae0991fbc67fe1111f5291b57c148.png?raw=true)\n",
        "\n",
        "\n",
        "\n",
        "\n",
        "\n",
        "\n",
        "\n",
        "\n",
        "\n",
        "\n",
        "\n",
        "\n",
        "- 각 노드의 가중치와 입력치를 곱한 것을 모두 합한 값이 활성함수에 의해 판단되는데, 그 값이 임계치(보통 0)보다 크면 뉴런이 활성화되고 결과값으로 1을 출력한다. 뉴런이 활성화되지 않으면 결과값으로 -1을 출력\n",
        "\n",
        "![](https://img1.daumcdn.net/thumb/R1280x0/?scode=mtistory2&fname=http%3A%2F%2Fcfile10.uf.tistory.com%2Fimage%2F261AC64E56C2D0E7241637)"
      ]
    },
    {
      "cell_type": "markdown",
      "metadata": {
        "id": "n8CuRM03WR6-"
      },
      "source": [
        "# 단층 Perceptron 날코딩 구현하기! \n"
      ]
    },
    {
      "cell_type": "markdown",
      "metadata": {
        "id": "NMOm3FP20iTq"
      },
      "source": [
        "1. AND 게이트 구현하기"
      ]
    },
    {
      "cell_type": "code",
      "metadata": {
        "id": "qfXoufAufQjs",
        "colab": {
          "base_uri": "https://localhost:8080/"
        },
        "outputId": "5aff9054-c082-4d51-a911-dc4505e62df7"
      },
      "source": [
        "import numpy as np\n",
        "\n",
        "\n",
        "def AND(x1, x2):\n",
        "    x = np.array([x1, x2]) # 0 아니면 1만 들어간다. \n",
        "    w = np.array([0.5, 0.5])\n",
        "    b = -0.7 #임계값 (b는 bias=치우쳤다의 약자)\n",
        "    tmp = np.sum(w*x) + b\n",
        "    if tmp <= 0:\n",
        "        return 0\n",
        "    else:\n",
        "        return 1\n",
        "\n",
        "if __name__ == '__main__':\n",
        "    for xs in [(0, 0), (1, 0), (0, 1), (1, 1)]:\n",
        "        y = AND(xs[0], xs[1]) #x[0]= 0,0을 집어 넣어라 \n",
        "        print(str(xs) + \" -> \" + str(y)) #xs의 데이터 타입을 스트링으로 바꾸겠다. "
      ],
      "execution_count": null,
      "outputs": [
        {
          "output_type": "stream",
          "text": [
            "(0, 0) -> 0\n",
            "(1, 0) -> 0\n",
            "(0, 1) -> 0\n",
            "(1, 1) -> 1\n"
          ],
          "name": "stdout"
        }
      ]
    },
    {
      "cell_type": "markdown",
      "metadata": {
        "id": "Ig8oYpaA0nm0"
      },
      "source": [
        "2. NAND 게이트 구현하기"
      ]
    },
    {
      "cell_type": "code",
      "metadata": {
        "colab": {
          "base_uri": "https://localhost:8080/"
        },
        "id": "hi853sMv0tkh",
        "outputId": "71d4d82a-ae10-43e2-beb2-1b779b147aa6"
      },
      "source": [
        "def NAND(x1, x2):\n",
        "    x = np.array([x1, x2])\n",
        "    w = # 이부분을 채워주세요!\n",
        "    b = 0.7\n",
        "    tmp = np.sum(w*x) + b\n",
        "    if tmp <= 0:\n",
        "        return 0\n",
        "    else:\n",
        "        return 1\n",
        "\n",
        "if __name__ == '__main__':\n",
        "    for xs in [(0, 0), (1, 0), (0, 1), (1, 1)]:\n",
        "        y = NAND(xs[0], xs[1])\n",
        "        print(str(xs) + \" -> \" + str(y))"
      ],
      "execution_count": null,
      "outputs": [
        {
          "output_type": "stream",
          "text": [
            "(0, 0) -> 1\n",
            "(1, 0) -> 1\n",
            "(0, 1) -> 1\n",
            "(1, 1) -> 0\n"
          ],
          "name": "stdout"
        }
      ]
    },
    {
      "cell_type": "markdown",
      "metadata": {
        "id": "V3XxSQhA0_T3"
      },
      "source": [
        "3. OR 게이트 구현하기"
      ]
    },
    {
      "cell_type": "code",
      "metadata": {
        "colab": {
          "base_uri": "https://localhost:8080/"
        },
        "id": "fCt0NwBk1895",
        "outputId": "1c3d5803-a5f0-4fc4-9610-201921437112"
      },
      "source": [
        "import numpy as np\n",
        "\n",
        "\n",
        "def OR(x1, x2):\n",
        "    x = np.array([x1, x2])\n",
        "    w = np.array([0.5, 0.5])\n",
        "    b = # 이부분을 채워주세요!\n",
        "    tmp = np.sum(w*x) + b\n",
        "    if tmp <= 0:\n",
        "        return 0\n",
        "    else:\n",
        "        return 1\n",
        "\n",
        "if __name__ == '__main__':\n",
        "    for xs in [(0, 0), (1, 0), (0, 1), (1, 1)]:\n",
        "        y = OR(xs[0], xs[1])\n",
        "        print(str(xs) + \" -> \" + str(y))"
      ],
      "execution_count": null,
      "outputs": [
        {
          "output_type": "stream",
          "text": [
            "(0, 0) -> 0\n",
            "(1, 0) -> 1\n",
            "(0, 1) -> 1\n",
            "(1, 1) -> 1\n"
          ],
          "name": "stdout"
        }
      ]
    },
    {
      "cell_type": "markdown",
      "metadata": {
        "id": "y5h1yTm51UD6"
      },
      "source": [
        "4. XOR 게이트 구현하기"
      ]
    },
    {
      "cell_type": "code",
      "metadata": {
        "id": "g7Z0Ls_Y1Thv",
        "colab": {
          "base_uri": "https://localhost:8080/"
        },
        "outputId": "e457de0a-ab94-4a7b-c986-a4ff27122e5c"
      },
      "source": [
        "def XOR(x1, x2):\n",
        "    s1 = # 이부분을 채워주세요!\n",
        "    s2 = # 이부분을 채워주세요!\n",
        "    y = # 이부분을 채워주세요!\n",
        "    return y\n",
        "\n",
        "if __name__ == '__main__':\n",
        "    for xs in [(0, 0), (1, 0), (0, 1), (1, 1)]:\n",
        "        y = XOR(xs[0], xs[1])\n",
        "        print(str(xs) + \" -> \" + str(y))"
      ],
      "execution_count": null,
      "outputs": [
        {
          "output_type": "stream",
          "text": [
            "(0, 0) -> 0\n",
            "(1, 0) -> 1\n",
            "(0, 1) -> 1\n",
            "(1, 1) -> 0\n"
          ],
          "name": "stdout"
        }
      ]
    },
    {
      "cell_type": "markdown",
      "metadata": {
        "id": "2OtccMZ8_tk5"
      },
      "source": [
        "# 다층 Perceptron 이해를 위한 개념"
      ]
    },
    {
      "cell_type": "markdown",
      "metadata": {
        "id": "MuKln4MJ_tet"
      },
      "source": [
        "## Activation Function\n",
        "-  입력값을 비선형(non-linear)방식으로 출력값을 도출하기 위해 사용되는 함수\n",
        "\n",
        "- 단층 퍼셉트론의 XOR (non-linear. 즉 선으로 나눌수 없는 한계) 방식을 해결하기 위해 등장한 개념\n",
        "\n",
        "- 즉 다층 퍼셉트론은 linear 레이어를 여러개 쌓는데 아니라 활성화 함수를 이용해서 non-linear를 여러개 쌓는 것"
      ]
    },
    {
      "cell_type": "markdown",
      "metadata": {
        "id": "QUwZvQXr_tZb"
      },
      "source": [
        "### Heaviside 함수 구현"
      ]
    },
    {
      "cell_type": "code",
      "metadata": {
        "id": "cJ0V8Haq_yXk"
      },
      "source": [
        "# 숫자 1개에 대한 헤비사이드 함수\n",
        "def step_function_simple(x):\n",
        "  if x>0:\n",
        "    return 1\n",
        "  else:\n",
        "    return 0"
      ],
      "execution_count": null,
      "outputs": []
    },
    {
      "cell_type": "code",
      "metadata": {
        "colab": {
          "base_uri": "https://localhost:8080/"
        },
        "id": "wzXHjTQU_yog",
        "outputId": "52bda99b-f7fe-4810-f96c-19f3632c92be"
      },
      "source": [
        "step_function_simple(1)"
      ],
      "execution_count": null,
      "outputs": [
        {
          "output_type": "execute_result",
          "data": {
            "text/plain": [
              "1"
            ]
          },
          "metadata": {
            "tags": []
          },
          "execution_count": 17
        }
      ]
    },
    {
      "cell_type": "code",
      "metadata": {
        "colab": {
          "base_uri": "https://localhost:8080/"
        },
        "id": "VIupOFXPAtAf",
        "outputId": "d8cf1e13-27b3-447b-ceef-d8df4323ebd2"
      },
      "source": [
        "step_function_simple(2)"
      ],
      "execution_count": null,
      "outputs": [
        {
          "output_type": "execute_result",
          "data": {
            "text/plain": [
              "1"
            ]
          },
          "metadata": {
            "tags": []
          },
          "execution_count": 18
        }
      ]
    },
    {
      "cell_type": "code",
      "metadata": {
        "colab": {
          "base_uri": "https://localhost:8080/"
        },
        "id": "GVLJWH07AuFF",
        "outputId": "e77d30d7-c00d-4b6a-85cd-a01455cbaa0e"
      },
      "source": [
        "step_function_simple(-1)"
      ],
      "execution_count": null,
      "outputs": [
        {
          "output_type": "execute_result",
          "data": {
            "text/plain": [
              "0"
            ]
          },
          "metadata": {
            "tags": []
          },
          "execution_count": 19
        }
      ]
    },
    {
      "cell_type": "code",
      "metadata": {
        "colab": {
          "base_uri": "https://localhost:8080/"
        },
        "id": "Gnz5GY5Y_2Ie",
        "outputId": "41d77bd6-907d-4721-dcb3-b4b2bcca9f5f"
      },
      "source": [
        "# 벡터(어떤 상수들의 집합)에 대한 헤비사이드 함수\n",
        "import numpy as np\n",
        "x=np.array([-1,1,2])\n",
        "\n",
        "def step_function(x):\n",
        "  return np.array(x>0, dtype=np.int) #데이터 타입은 T,F 논리형이 아니라 정수형으로 나와야 함으로 바꾼다.\n",
        "\n",
        "step_function(x)"
      ],
      "execution_count": null,
      "outputs": [
        {
          "output_type": "execute_result",
          "data": {
            "text/plain": [
              "array([0, 1, 1])"
            ]
          },
          "metadata": {
            "tags": []
          },
          "execution_count": 23
        }
      ]
    },
    {
      "cell_type": "code",
      "metadata": {
        "colab": {
          "base_uri": "https://localhost:8080/"
        },
        "id": "JoMZdrmm_3mh",
        "outputId": "76a7dd40-011a-4bf5-ccbb-c639896cd0ea"
      },
      "source": [
        "x>0 \n",
        "# -1은 0보다 크다는 F, 1은 0보다 크다는 T, 2는 0보다 크다는 T"
      ],
      "execution_count": null,
      "outputs": [
        {
          "output_type": "execute_result",
          "data": {
            "text/plain": [
              "array([False,  True,  True])"
            ]
          },
          "metadata": {
            "tags": []
          },
          "execution_count": 24
        }
      ]
    },
    {
      "cell_type": "markdown",
      "metadata": {
        "id": "9UEnm5df_5Fz"
      },
      "source": [
        "### Sigmoid 함수 구현\n",
        "\n",
        "$f(x)=\\frac{1}{1+e^{-x}}$\n",
        "\n",
        "-> 로지스틱 회귀분석 또는 Neural network의 Binary classification 마지막 레이어의 활성함수로 사용하는 시그모이드"
      ]
    },
    {
      "cell_type": "code",
      "metadata": {
        "id": "w0IZepVl_6e7"
      },
      "source": [
        "import numpy as np\n",
        "def sigmoid(x):\n",
        "  return # 이부분을 채워주세요!"
      ],
      "execution_count": null,
      "outputs": []
    },
    {
      "cell_type": "code",
      "metadata": {
        "colab": {
          "base_uri": "https://localhost:8080/"
        },
        "id": "YxjYdW7-AHxn",
        "outputId": "f47d2346-4aa7-42ba-8777-102c21227f89"
      },
      "source": [
        "sigmoid(2)"
      ],
      "execution_count": null,
      "outputs": [
        {
          "output_type": "execute_result",
          "data": {
            "text/plain": [
              "0.8807970779778823"
            ]
          },
          "metadata": {
            "tags": []
          },
          "execution_count": 8
        }
      ]
    },
    {
      "cell_type": "code",
      "metadata": {
        "colab": {
          "base_uri": "https://localhost:8080/"
        },
        "id": "JJbtg31IAwJs",
        "outputId": "8fc6ba09-609a-44c7-c964-c2de982c37e5"
      },
      "source": [
        "sigmoid(3)"
      ],
      "execution_count": null,
      "outputs": [
        {
          "output_type": "execute_result",
          "data": {
            "text/plain": [
              "0.9525741268224334"
            ]
          },
          "metadata": {
            "tags": []
          },
          "execution_count": 13
        }
      ]
    },
    {
      "cell_type": "code",
      "metadata": {
        "colab": {
          "base_uri": "https://localhost:8080/"
        },
        "id": "pd9LxbOCAypr",
        "outputId": "272d50e6-9d46-4ee8-d256-8f8f2c34daad"
      },
      "source": [
        "sigmoid(-1)"
      ],
      "execution_count": null,
      "outputs": [
        {
          "output_type": "execute_result",
          "data": {
            "text/plain": [
              "0.2689414213699951"
            ]
          },
          "metadata": {
            "tags": []
          },
          "execution_count": 14
        }
      ]
    },
    {
      "cell_type": "code",
      "metadata": {
        "colab": {
          "base_uri": "https://localhost:8080/"
        },
        "id": "bgFoxib7A02i",
        "outputId": "c47cd521-83e9-4035-e2da-0a988c719b7b"
      },
      "source": [
        "x"
      ],
      "execution_count": null,
      "outputs": [
        {
          "output_type": "execute_result",
          "data": {
            "text/plain": [
              "array([-1,  1,  2])"
            ]
          },
          "metadata": {
            "tags": []
          },
          "execution_count": 25
        }
      ]
    },
    {
      "cell_type": "code",
      "metadata": {
        "colab": {
          "base_uri": "https://localhost:8080/"
        },
        "id": "BFn3gisHBEhn",
        "outputId": "29d691ee-a8fe-42b2-afb1-d3c2cbb4aefd"
      },
      "source": [
        "sigmoid(x)"
      ],
      "execution_count": null,
      "outputs": [
        {
          "output_type": "execute_result",
          "data": {
            "text/plain": [
              "array([0.26894142, 0.73105858, 0.88079708])"
            ]
          },
          "metadata": {
            "tags": []
          },
          "execution_count": 26
        }
      ]
    },
    {
      "cell_type": "markdown",
      "metadata": {
        "id": "hkn92qCgBM-4"
      },
      "source": [
        "### Heaviside 함수 그래프 그리기"
      ]
    },
    {
      "cell_type": "code",
      "metadata": {
        "colab": {
          "base_uri": "https://localhost:8080/",
          "height": 265
        },
        "id": "jq5CM1gYBNah",
        "outputId": "24b41c7d-8b11-4cae-d742-74a7454c5789"
      },
      "source": [
        "import numpy as np\n",
        "import matplotlib.pylab as plt\n",
        "\n",
        "\n",
        "def step_function(x):\n",
        "    return np.array(x > 0, dtype=np.int)\n",
        "\n",
        "X = np.arange(-5.0, 5.0, 0.1)\n",
        "Y = step_function(X)\n",
        "plt.plot(X, Y)\n",
        "plt.ylim(-0.1, 1.1)  # y축의 범위 지정\n",
        "plt.show()"
      ],
      "execution_count": null,
      "outputs": [
        {
          "output_type": "display_data",
          "data": {
            "image/png": "[encoded data removed]",
            "text/plain": [
              "<Figure size 432x288 with 1 Axes>"
            ]
          },
          "metadata": {
            "tags": [],
            "needs_background": "light"
          }
        }
      ]
    },
    {
      "cell_type": "code",
      "metadata": {
        "colab": {
          "base_uri": "https://localhost:8080/"
        },
        "id": "2giyrWrWBkik",
        "outputId": "16372809-b36b-42e0-dfe6-bfd18a80439c"
      },
      "source": [
        "np.arange(-5,5) #-5부터 5까지의 정수를 리스트로"
      ],
      "execution_count": null,
      "outputs": [
        {
          "output_type": "execute_result",
          "data": {
            "text/plain": [
              "array([-5, -4, -3, -2, -1,  0,  1,  2,  3,  4])"
            ]
          },
          "metadata": {
            "tags": []
          },
          "execution_count": 29
        }
      ]
    },
    {
      "cell_type": "code",
      "metadata": {
        "colab": {
          "base_uri": "https://localhost:8080/"
        },
        "id": "JiXIuzLvB5yD",
        "outputId": "2d691798-f3ec-4299-8fde-b9ad1edaf366"
      },
      "source": [
        "X = np.arange(-5.0, 5.0, 0.1)\n",
        "X"
      ],
      "execution_count": null,
      "outputs": [
        {
          "output_type": "execute_result",
          "data": {
            "text/plain": [
              "array([-5.00000000e+00, -4.90000000e+00, -4.80000000e+00, -4.70000000e+00,\n",
              "       -4.60000000e+00, -4.50000000e+00, -4.40000000e+00, -4.30000000e+00,\n",
              "       -4.20000000e+00, -4.10000000e+00, -4.00000000e+00, -3.90000000e+00,\n",
              "       -3.80000000e+00, -3.70000000e+00, -3.60000000e+00, -3.50000000e+00,\n",
              "       -3.40000000e+00, -3.30000000e+00, -3.20000000e+00, -3.10000000e+00,\n",
              "       -3.00000000e+00, -2.90000000e+00, -2.80000000e+00, -2.70000000e+00,\n",
              "       -2.60000000e+00, -2.50000000e+00, -2.40000000e+00, -2.30000000e+00,\n",
              "       -2.20000000e+00, -2.10000000e+00, -2.00000000e+00, -1.90000000e+00,\n",
              "       -1.80000000e+00, -1.70000000e+00, -1.60000000e+00, -1.50000000e+00,\n",
              "       -1.40000000e+00, -1.30000000e+00, -1.20000000e+00, -1.10000000e+00,\n",
              "       -1.00000000e+00, -9.00000000e-01, -8.00000000e-01, -7.00000000e-01,\n",
              "       -6.00000000e-01, -5.00000000e-01, -4.00000000e-01, -3.00000000e-01,\n",
              "       -2.00000000e-01, -1.00000000e-01, -1.77635684e-14,  1.00000000e-01,\n",
              "        2.00000000e-01,  3.00000000e-01,  4.00000000e-01,  5.00000000e-01,\n",
              "        6.00000000e-01,  7.00000000e-01,  8.00000000e-01,  9.00000000e-01,\n",
              "        1.00000000e+00,  1.10000000e+00,  1.20000000e+00,  1.30000000e+00,\n",
              "        1.40000000e+00,  1.50000000e+00,  1.60000000e+00,  1.70000000e+00,\n",
              "        1.80000000e+00,  1.90000000e+00,  2.00000000e+00,  2.10000000e+00,\n",
              "        2.20000000e+00,  2.30000000e+00,  2.40000000e+00,  2.50000000e+00,\n",
              "        2.60000000e+00,  2.70000000e+00,  2.80000000e+00,  2.90000000e+00,\n",
              "        3.00000000e+00,  3.10000000e+00,  3.20000000e+00,  3.30000000e+00,\n",
              "        3.40000000e+00,  3.50000000e+00,  3.60000000e+00,  3.70000000e+00,\n",
              "        3.80000000e+00,  3.90000000e+00,  4.00000000e+00,  4.10000000e+00,\n",
              "        4.20000000e+00,  4.30000000e+00,  4.40000000e+00,  4.50000000e+00,\n",
              "        4.60000000e+00,  4.70000000e+00,  4.80000000e+00,  4.90000000e+00])"
            ]
          },
          "metadata": {
            "tags": []
          },
          "execution_count": 31
        }
      ]
    },
    {
      "cell_type": "markdown",
      "metadata": {
        "id": "Ex5nd1KPCWDH"
      },
      "source": [
        "### sigmoid 함수 그래프 그리기\n"
      ]
    },
    {
      "cell_type": "code",
      "metadata": {
        "colab": {
          "base_uri": "https://localhost:8080/",
          "height": 265
        },
        "id": "gk17-86sCoEz",
        "outputId": "4c89f4e9-9148-4dcf-fa95-be2ed3a895f2"
      },
      "source": [
        "import numpy as np\n",
        "import matplotlib.pylab as plt\n",
        "\n",
        "\n",
        "def sigmoid(x):\n",
        "    return # 위에서 채운 것을 그대로 적어주세요!\n",
        "\n",
        "X = np.arange(-5.0, 5.0, 0.1)\n",
        "Y = sigmoid(X)\n",
        "plt.plot(X, Y)\n",
        "plt.ylim(-0.1, 1.1)\n",
        "plt.show()"
      ],
      "execution_count": null,
      "outputs": [
        {
          "output_type": "display_data",
          "data": {
            "image/png": "[encoded data removed]",
            "text/plain": [
              "<Figure size 432x288 with 1 Axes>"
            ]
          },
          "metadata": {
            "tags": [],
            "needs_background": "light"
          }
        }
      ]
    },
    {
      "cell_type": "markdown",
      "metadata": {
        "id": "ge-ndtycCrqd"
      },
      "source": [
        "### heaviside 와 sigmoid 비교"
      ]
    },
    {
      "cell_type": "code",
      "metadata": {
        "colab": {
          "base_uri": "https://localhost:8080/",
          "height": 265
        },
        "id": "f78cCP2KCfeW",
        "outputId": "26158751-128c-4ae8-8abe-0c613d48d519"
      },
      "source": [
        "import numpy as np\n",
        "import matplotlib.pylab as plt\n",
        "\n",
        "\n",
        "def sigmoid(x):\n",
        "    return # 위에서 채운 것을 그대로 적어주세요!\n",
        "\n",
        "\n",
        "def step_function(x):\n",
        "    return np.array(x > 0, dtype=np.int)\n",
        "\n",
        "x = np.arange(-5.0, 5.0, 0.1)\n",
        "y1 = sigmoid(x)\n",
        "y2 = step_function(x)\n",
        "\n",
        "plt.plot(x, y1)\n",
        "plt.plot(x, y2, 'k--')\n",
        "plt.ylim(-0.1, 1.1) # y축 범위 지정\n",
        "plt.show()"
      ],
      "execution_count": null,
      "outputs": [
        {
          "output_type": "display_data",
          "data": {
            "image/png": "[encoded data removed]",
            "text/plain": [
              "<Figure size 432x288 with 1 Axes>"
            ]
          },
          "metadata": {
            "tags": [],
            "needs_background": "light"
          }
        }
      ]
    },
    {
      "cell_type": "markdown",
      "metadata": {
        "id": "nWZhmqAhDyll"
      },
      "source": [
        "### Relu 함수 구현 및 그래프\n",
        "\n",
        "$\\begin{split}f(x) = \\begin{Bmatrix} x & x > 0 \\\\\n",
        " 0 & x <= 0 \\end{Bmatrix}\\end{split}$"
      ]
    },
    {
      "cell_type": "code",
      "metadata": {
        "colab": {
          "base_uri": "https://localhost:8080/",
          "height": 265
        },
        "id": "PT5rUAwmEuKa",
        "outputId": "9bd7ff7b-2c74-489f-b68a-a587ecf14b5e"
      },
      "source": [
        "import numpy as np\n",
        "import matplotlib.pylab as plt\n",
        "\n",
        "\n",
        "def relu(x):\n",
        "    return # 이부분을 채워주세요! # 0과 x중에 더 큰값을 취하겠다. \n",
        "\n",
        "x = np.arange(-5.0, 5.0, 0.1)\n",
        "y = relu(x)\n",
        "plt.plot(x, y)\n",
        "plt.ylim(-1.0, 5.5)\n",
        "plt.show()\n"
      ],
      "execution_count": null,
      "outputs": [
        {
          "output_type": "display_data",
          "data": {
            "image/png": "[encoded data removed]",
            "text/plain": [
              "<Figure size 432x288 with 1 Axes>"
            ]
          },
          "metadata": {
            "tags": [],
            "needs_background": "light"
          }
        }
      ]
    },
    {
      "cell_type": "markdown",
      "metadata": {
        "id": "JLnmtBfKMSjA"
      },
      "source": [
        "## 인공신경망 구조"
      ]
    },
    {
      "cell_type": "code",
      "metadata": {
        "id": "-SVFlR99MXdA"
      },
      "source": [
        "def identity_function(x):\n",
        "  return x\n",
        "\n",
        "def init_network(): #신경망 정의하기, 입력변수가 없어도 된다.\n",
        "  network ={} # 빈 딕셔너리 선언\n",
        "  network['W1'] = np.array([[0.1,0.3,0.5],[0.2,0.4,0.6]]) # 딕셔너리에 내용물이 채워짐\n",
        "  network['b1'] = np.array([0.1,0.2,0.3])\n",
        "  network['W2'] = np.array([[0.1,0.4],[0.2,0.5],[0.3,0.6]])\n",
        "  network['b2'] = np.array([0.1,0.2])\n",
        "  network['W3'] = np.array([[0.1,0.3],[0.2,0.4]])\n",
        "  network['b3'] = np.array([0.1,0.2])\n",
        "\n",
        "  return network\n",
        "\n",
        "def forward(network, x): #전기신호 전달 정의\n",
        "  W1, W2, W3 = network['W1'], network['W2'], network['W3']\n",
        "  b1, b2, b3 = network['b1'], network['b2'], network['b3']\n",
        "\n",
        "  a1 = np.dot(x,W1)+b1 #입력층에서 1층으로의 신호 전달 network['b3'] = np.array([0.1,0.2])\n",
        "  z1 = sigmoid(a1)\n",
        "  a2 = np.dot(z1, W2)+b2 # 1층에서 2층으로의 신호 전달\n",
        "  z2 = sigmoid(a2)\n",
        "  a3 = np.dot(z2, W3)+b3 # 2층에서 출력층으로의 전달\n",
        "  y= identity_function(a3) # 나중에 이부분을 소프트맥스로 바꿀 예정\n",
        "\n",
        "  return y"
      ],
      "execution_count": null,
      "outputs": []
    },
    {
      "cell_type": "code",
      "metadata": {
        "colab": {
          "base_uri": "https://localhost:8080/"
        },
        "id": "v0_znojCOIjY",
        "outputId": "93f6e411-e43d-4b92-c10c-377e1bb92501"
      },
      "source": [
        "network = init_network()\n",
        "x = np.array([1.0,0.5])\n",
        "y = forward(network, x)\n",
        "print(y)"
      ],
      "execution_count": null,
      "outputs": [
        {
          "output_type": "stream",
          "text": [
            "[0.31682708 0.69627909]\n"
          ],
          "name": "stdout"
        }
      ]
    },
    {
      "cell_type": "markdown",
      "metadata": {
        "id": "eNgak_64KDh5"
      },
      "source": [
        "## softmax함수\n",
        "\n"
      ]
    },
    {
      "cell_type": "code",
      "metadata": {
        "id": "ULDLeyQqNDQm"
      },
      "source": [
        "def softmax(x):\n",
        "  if x.ndim == 2: # x는 2차원 이다. (행렬)\n",
        "    x = x.T\n",
        "    x= x.np.max(x, axis=0)\n",
        "    y= # 이부분을 채워주세요!\n",
        "    return y.T\n",
        "  x = x- np.max(x) #오버플로 대책\n",
        "  return # 소프트 맥스 함수의 핵심부분 채우기"
      ],
      "execution_count": null,
      "outputs": []
    }
  ]
}